{
 "cells": [
  {
   "cell_type": "markdown",
   "metadata": {},
   "source": [
    "## SENG 474 Data Mining Project"
   ]
  },
  {
   "cell_type": "code",
   "execution_count": 1,
   "metadata": {},
   "outputs": [],
   "source": [
    "import numpy as np\n",
    "import matplotlib.pyplot as plt\n",
    "import pandas as pd\n",
    "from math import sqrt\n",
    "from sklearn.metrics.pairwise import linear_kernel, cosine_similarity\n",
    "from sklearn.feature_extraction.text import TfidfVectorizer, CountVectorizer\n",
    "\n",
    "data = pd.read_csv('google-play-store-apps/googleplaystore.csv')"
   ]
  },
  {
   "cell_type": "markdown",
   "metadata": {},
   "source": [
    "## Data Preprocessing\n",
    "\n",
    "After importing the data set, the columns that won't be required for the mining and recommendation engine are dropped. The size of the app, last updated date, current version number and the android version number do not have an effect on the analysis and on the recommender engine. Hence these columns are dropped. The dataset after this cleanup is shown below."
   ]
  },
  {
   "cell_type": "code",
   "execution_count": 2,
   "metadata": {},
   "outputs": [
    {
     "data": {
      "text/html": [
       "<div>\n",
       "<style scoped>\n",
       "    .dataframe tbody tr th:only-of-type {\n",
       "        vertical-align: middle;\n",
       "    }\n",
       "\n",
       "    .dataframe tbody tr th {\n",
       "        vertical-align: top;\n",
       "    }\n",
       "\n",
       "    .dataframe thead th {\n",
       "        text-align: right;\n",
       "    }\n",
       "</style>\n",
       "<table border=\"1\" class=\"dataframe\">\n",
       "  <thead>\n",
       "    <tr style=\"text-align: right;\">\n",
       "      <th></th>\n",
       "      <th>App</th>\n",
       "      <th>Category</th>\n",
       "      <th>Rating</th>\n",
       "      <th>Reviews</th>\n",
       "      <th>Installs</th>\n",
       "      <th>Type</th>\n",
       "      <th>Price</th>\n",
       "      <th>Content Rating</th>\n",
       "      <th>Genres</th>\n",
       "    </tr>\n",
       "  </thead>\n",
       "  <tbody>\n",
       "    <tr>\n",
       "      <th>0</th>\n",
       "      <td>Photo Editor &amp; Candy Camera &amp; Grid &amp; ScrapBook</td>\n",
       "      <td>ART_AND_DESIGN</td>\n",
       "      <td>4.1</td>\n",
       "      <td>159</td>\n",
       "      <td>10,000+</td>\n",
       "      <td>Free</td>\n",
       "      <td>0</td>\n",
       "      <td>Everyone</td>\n",
       "      <td>Art &amp; Design</td>\n",
       "    </tr>\n",
       "    <tr>\n",
       "      <th>1</th>\n",
       "      <td>Coloring book moana</td>\n",
       "      <td>ART_AND_DESIGN</td>\n",
       "      <td>3.9</td>\n",
       "      <td>967</td>\n",
       "      <td>500,000+</td>\n",
       "      <td>Free</td>\n",
       "      <td>0</td>\n",
       "      <td>Everyone</td>\n",
       "      <td>Art &amp; Design;Pretend Play</td>\n",
       "    </tr>\n",
       "    <tr>\n",
       "      <th>2</th>\n",
       "      <td>U Launcher Lite – FREE Live Cool Themes, Hide ...</td>\n",
       "      <td>ART_AND_DESIGN</td>\n",
       "      <td>4.7</td>\n",
       "      <td>87510</td>\n",
       "      <td>5,000,000+</td>\n",
       "      <td>Free</td>\n",
       "      <td>0</td>\n",
       "      <td>Everyone</td>\n",
       "      <td>Art &amp; Design</td>\n",
       "    </tr>\n",
       "    <tr>\n",
       "      <th>3</th>\n",
       "      <td>Sketch - Draw &amp; Paint</td>\n",
       "      <td>ART_AND_DESIGN</td>\n",
       "      <td>4.5</td>\n",
       "      <td>215644</td>\n",
       "      <td>50,000,000+</td>\n",
       "      <td>Free</td>\n",
       "      <td>0</td>\n",
       "      <td>Teen</td>\n",
       "      <td>Art &amp; Design</td>\n",
       "    </tr>\n",
       "    <tr>\n",
       "      <th>4</th>\n",
       "      <td>Pixel Draw - Number Art Coloring Book</td>\n",
       "      <td>ART_AND_DESIGN</td>\n",
       "      <td>4.3</td>\n",
       "      <td>967</td>\n",
       "      <td>100,000+</td>\n",
       "      <td>Free</td>\n",
       "      <td>0</td>\n",
       "      <td>Everyone</td>\n",
       "      <td>Art &amp; Design;Creativity</td>\n",
       "    </tr>\n",
       "  </tbody>\n",
       "</table>\n",
       "</div>"
      ],
      "text/plain": [
       "                                                 App        Category  Rating  \\\n",
       "0     Photo Editor & Candy Camera & Grid & ScrapBook  ART_AND_DESIGN     4.1   \n",
       "1                                Coloring book moana  ART_AND_DESIGN     3.9   \n",
       "2  U Launcher Lite – FREE Live Cool Themes, Hide ...  ART_AND_DESIGN     4.7   \n",
       "3                              Sketch - Draw & Paint  ART_AND_DESIGN     4.5   \n",
       "4              Pixel Draw - Number Art Coloring Book  ART_AND_DESIGN     4.3   \n",
       "\n",
       "  Reviews     Installs  Type Price Content Rating                     Genres  \n",
       "0     159      10,000+  Free     0       Everyone               Art & Design  \n",
       "1     967     500,000+  Free     0       Everyone  Art & Design;Pretend Play  \n",
       "2   87510   5,000,000+  Free     0       Everyone               Art & Design  \n",
       "3  215644  50,000,000+  Free     0           Teen               Art & Design  \n",
       "4     967     100,000+  Free     0       Everyone    Art & Design;Creativity  "
      ]
     },
     "execution_count": 2,
     "metadata": {},
     "output_type": "execute_result"
    }
   ],
   "source": [
    "to_drop = ['Size',\n",
    "          'Last Updated',\n",
    "          'Current Ver',\n",
    "          'Android Ver']\n",
    "data.drop(to_drop, inplace=True, axis=1)\n",
    "data.head()\n"
   ]
  },
  {
   "cell_type": "markdown",
   "metadata": {},
   "source": [
    "### Data Cleanup\n",
    "\n",
    "It was found that a lot of the numberical data from the data set were stored as strings, some even containing charecters like \"&\" and \"+\". Hence as part of the mining process, the data was cleaned by removing inconsistent rows, invalid characters and by converting string numbers to actual numeric values to aid in the numerical analysis. The data after cleanup is shown below."
   ]
  },
  {
   "cell_type": "code",
   "execution_count": 3,
   "metadata": {},
   "outputs": [
    {
     "data": {
      "text/html": [
       "<div>\n",
       "<style scoped>\n",
       "    .dataframe tbody tr th:only-of-type {\n",
       "        vertical-align: middle;\n",
       "    }\n",
       "\n",
       "    .dataframe tbody tr th {\n",
       "        vertical-align: top;\n",
       "    }\n",
       "\n",
       "    .dataframe thead th {\n",
       "        text-align: right;\n",
       "    }\n",
       "</style>\n",
       "<table border=\"1\" class=\"dataframe\">\n",
       "  <thead>\n",
       "    <tr style=\"text-align: right;\">\n",
       "      <th></th>\n",
       "      <th>App</th>\n",
       "      <th>Category</th>\n",
       "      <th>Rating</th>\n",
       "      <th>Reviews</th>\n",
       "      <th>Installs</th>\n",
       "      <th>Type</th>\n",
       "      <th>Price</th>\n",
       "      <th>Content Rating</th>\n",
       "      <th>Genres</th>\n",
       "    </tr>\n",
       "  </thead>\n",
       "  <tbody>\n",
       "    <tr>\n",
       "      <th>0</th>\n",
       "      <td>Photo Editor &amp; Candy Camera &amp; Grid &amp; ScrapBook</td>\n",
       "      <td>ART_AND_DESIGN</td>\n",
       "      <td>4.1</td>\n",
       "      <td>159.0</td>\n",
       "      <td>10000.0</td>\n",
       "      <td>Free</td>\n",
       "      <td>0.0</td>\n",
       "      <td>Everyone</td>\n",
       "      <td>Art &amp; Design</td>\n",
       "    </tr>\n",
       "    <tr>\n",
       "      <th>1</th>\n",
       "      <td>Coloring book moana</td>\n",
       "      <td>ART_AND_DESIGN</td>\n",
       "      <td>3.9</td>\n",
       "      <td>967.0</td>\n",
       "      <td>500000.0</td>\n",
       "      <td>Free</td>\n",
       "      <td>0.0</td>\n",
       "      <td>Everyone</td>\n",
       "      <td>Art &amp; Design;Pretend Play</td>\n",
       "    </tr>\n",
       "    <tr>\n",
       "      <th>2</th>\n",
       "      <td>U Launcher Lite – FREE Live Cool Themes, Hide ...</td>\n",
       "      <td>ART_AND_DESIGN</td>\n",
       "      <td>4.7</td>\n",
       "      <td>87510.0</td>\n",
       "      <td>5000000.0</td>\n",
       "      <td>Free</td>\n",
       "      <td>0.0</td>\n",
       "      <td>Everyone</td>\n",
       "      <td>Art &amp; Design</td>\n",
       "    </tr>\n",
       "    <tr>\n",
       "      <th>3</th>\n",
       "      <td>Sketch - Draw &amp; Paint</td>\n",
       "      <td>ART_AND_DESIGN</td>\n",
       "      <td>4.5</td>\n",
       "      <td>215644.0</td>\n",
       "      <td>50000000.0</td>\n",
       "      <td>Free</td>\n",
       "      <td>0.0</td>\n",
       "      <td>Teen</td>\n",
       "      <td>Art &amp; Design</td>\n",
       "    </tr>\n",
       "    <tr>\n",
       "      <th>4</th>\n",
       "      <td>Pixel Draw - Number Art Coloring Book</td>\n",
       "      <td>ART_AND_DESIGN</td>\n",
       "      <td>4.3</td>\n",
       "      <td>967.0</td>\n",
       "      <td>100000.0</td>\n",
       "      <td>Free</td>\n",
       "      <td>0.0</td>\n",
       "      <td>Everyone</td>\n",
       "      <td>Art &amp; Design;Creativity</td>\n",
       "    </tr>\n",
       "  </tbody>\n",
       "</table>\n",
       "</div>"
      ],
      "text/plain": [
       "                                                 App        Category  Rating  \\\n",
       "0     Photo Editor & Candy Camera & Grid & ScrapBook  ART_AND_DESIGN     4.1   \n",
       "1                                Coloring book moana  ART_AND_DESIGN     3.9   \n",
       "2  U Launcher Lite – FREE Live Cool Themes, Hide ...  ART_AND_DESIGN     4.7   \n",
       "3                              Sketch - Draw & Paint  ART_AND_DESIGN     4.5   \n",
       "4              Pixel Draw - Number Art Coloring Book  ART_AND_DESIGN     4.3   \n",
       "\n",
       "    Reviews    Installs  Type  Price Content Rating                     Genres  \n",
       "0     159.0     10000.0  Free    0.0       Everyone               Art & Design  \n",
       "1     967.0    500000.0  Free    0.0       Everyone  Art & Design;Pretend Play  \n",
       "2   87510.0   5000000.0  Free    0.0       Everyone               Art & Design  \n",
       "3  215644.0  50000000.0  Free    0.0           Teen               Art & Design  \n",
       "4     967.0    100000.0  Free    0.0       Everyone    Art & Design;Creativity  "
      ]
     },
     "execution_count": 3,
     "metadata": {},
     "output_type": "execute_result"
    }
   ],
   "source": [
    "def clean_data(data):\n",
    "    # Fixing Price\n",
    "    data = data.where(data['Price'] != \"Everyone\")\n",
    "    data[\"Price\"] = data[\"Price\"].str.replace(\"$\", '')\n",
    "    data[\"Price\"] = pd.to_numeric(data[\"Price\"])\n",
    "\n",
    "    # Fixing Installs\n",
    "    data[\"Installs\"] = data[\"Installs\"].str.replace(\",\", '')\n",
    "    data[\"Installs\"] = data[\"Installs\"].str.replace(\"+\", '')\n",
    "    data[\"Installs\"] = pd.to_numeric(data[\"Installs\"])\n",
    "\n",
    "    data[\"Reviews\"] = pd.to_numeric(data[\"Reviews\"])\n",
    "    data['Genres'] = data['Genres'].fillna('')\n",
    "    return data\n",
    "\n",
    "data = clean_data(data)\n",
    "\n",
    "# data['AG'] = data[['App', 'Genres']].apply(lambda x: ''.join(x), axis=1)\n",
    "# data[\"AppName_Genres\"] = data[\"App\"].map(str) + \" - \" + data[\"Genres\"]\n",
    "data.head()"
   ]
  },
  {
   "cell_type": "markdown",
   "metadata": {},
   "source": [
    "## Data Mining\n",
    "\n",
    "### Genres Based Recommender System\n",
    "\n",
    "For providing an app recommendation, the similarity between apps based on a certain metric is computed. For this recommendation system the main metric used is the \"Genre\" of the app. Content based filtering is done on the dataset to retrieve apps that are most similar to each other based on Genre. \n",
    "\n",
    "### TF-IDF Matrix\n",
    "\n",
    "A fitted term frequency–inverse document frequency is generated for the apps' generes. The vocabulary set for the dataset can be seen below.\n"
   ]
  },
  {
   "cell_type": "code",
   "execution_count": 4,
   "metadata": {},
   "outputs": [
    {
     "name": "stdout",
     "output_type": "stream",
     "text": [
      "{'art': 10, 'design': 44, 'art design': 11, 'pretend': 117, 'play': 109, 'design pretend': 47, 'pretend play': 118, 'creativity': 41, 'design creativity': 46, 'action': 0, 'adventure': 3, 'design action': 45, 'action adventure': 2, 'auto': 14, 'vehicles': 151, 'auto vehicles': 15, 'beauty': 16, 'books': 21, 'reference': 128, 'books reference': 22, 'business': 25, 'comics': 37, 'comics creativity': 38, 'communication': 39, 'dating': 42, 'education': 52, 'education education': 56, 'education creativity': 55, 'music': 96, 'video': 152, 'education music': 57, 'music video': 99, 'education action': 53, 'education pretend': 58, 'brain': 23, 'games': 79, 'education brain': 54, 'brain games': 24, 'entertainment': 65, 'entertainment music': 70, 'entertainment brain': 67, 'entertainment creativity': 68, 'events': 72, 'finance': 73, 'food': 77, 'drink': 48, 'food drink': 78, 'health': 80, 'fitness': 74, 'health fitness': 81, 'house': 83, 'home': 82, 'house home': 84, 'libraries': 85, 'demo': 43, 'libraries demo': 86, 'lifestyle': 87, 'lifestyle pretend': 89, 'adventure action': 4, 'arcade': 7, 'casual': 30, 'card': 26, 'casual pretend': 36, 'strategy': 141, 'puzzle': 120, 'sports': 139, 'word': 155, 'racing': 125, 'casual creativity': 33, 'casual action': 31, 'simulation': 134, 'board': 17, 'trivia': 149, 'role': 131, 'playing': 112, 'role playing': 132, 'simulation education': 136, 'action action': 1, 'casual brain': 32, 'simulation action': 135, 'educational': 59, 'educational creativity': 62, 'puzzle brain': 122, 'educational education': 63, 'card brain': 28, 'educational brain': 61, 'educational pretend': 64, 'entertainment education': 69, 'casual education': 34, 'music music': 98, 'racing action': 126, 'arcade pretend': 9, 'playing action': 113, 'simulation pretend': 137, 'puzzle creativity': 123, 'sports action': 140, 'educational action': 60, 'arcade action': 8, 'entertainment action': 66, 'puzzle action': 121, 'strategy action': 142, 'audio': 12, 'music audio': 97, 'audio music': 13, 'fitness education': 76, 'adventure education': 6, 'board brain': 19, 'board action': 18, 'board pretend': 20, 'casual music': 35, 'playing pretend': 116, 'entertainment pretend': 71, 'players': 110, 'editors': 49, 'video players': 153, 'players editors': 111, 'editors creativity': 50, 'card action': 27, 'medical': 95, 'social': 138, 'shopping': 133, 'photography': 108, 'travel': 147, 'local': 90, 'travel local': 148, 'local action': 91, 'tools': 145, 'tools education': 146, 'personalization': 107, 'productivity': 119, 'parenting': 103, 'parenting music': 106, 'parenting education': 105, 'parenting brain': 104, 'weather': 154, 'editors music': 51, 'news': 101, 'magazines': 92, 'news magazines': 102, 'maps': 93, 'navigation': 100, 'maps navigation': 94, 'fitness action': 75, 'casino': 29, 'adventure brain': 5, 'trivia education': 150, 'lifestyle education': 88, 'reference creativity': 129, 'reference education': 130, 'puzzle education': 124, 'playing education': 115, 'playing brain': 114, 'strategy education': 144, 'racing pretend': 127, 'communication creativity': 40, 'strategy creativity': 143}\n"
     ]
    }
   ],
   "source": [
    "# GENRE BASED RECOMMENDER\n",
    "tf = TfidfVectorizer(analyzer='word',ngram_range=(1, 2),min_df=0, stop_words='english')\n",
    "tfidf_matrix = tf.fit_transform(data['Genres'])\n",
    "\n",
    "print(tf.vocabulary_) \n"
   ]
  },
  {
   "cell_type": "markdown",
   "metadata": {},
   "source": [
    "The inverse document frequency can be seen here"
   ]
  },
  {
   "cell_type": "code",
   "execution_count": 5,
   "metadata": {},
   "outputs": [
    {
     "name": "stdout",
     "output_type": "stream",
     "text": [
      "{'action': 4.068606491748914, 'action action': 7.400811001924119, 'action adventure': 5.356708826689592, 'adventure': 4.9112854062798235, 'adventure action': 7.652125430205025, 'adventure brain': 9.598035579260339, 'adventure education': 9.192570471152173, 'arcade': 4.818912086148808, 'arcade action': 7.457969415764067, 'arcade pretend': 9.598035579260339, 'art': 6.042687517770925, 'art design': 6.042687517770925, 'audio': 9.598035579260339, 'audio music': 9.598035579260339, 'auto': 5.836835463566776, 'auto vehicles': 5.836835463566776, 'beauty': 6.302198713256009, 'board': 6.132299676460612, 'board action': 8.904888398700393, 'board brain': 7.5185940375805025, 'board pretend': 9.598035579260339, 'books': 4.831597245676124, 'books reference': 4.831597245676124, 'brain': 6.028502882778968, 'brain games': 6.028502882778968, 'business': 4.157784716823635, 'card': 6.339939041238856, 'card action': 9.192570471152173, 'card brain': 9.598035579260339, 'casino': 6.602303305706347, 'casual': 4.689063938940583, 'casual action': 7.200140306461968, 'casual brain': 7.652125430205025, 'casual creativity': 8.211741218140448, 'casual education': 8.904888398700393, 'casual music': 9.192570471152173, 'casual pretend': 6.825446857020557, 'comics': 6.180308895646972, 'comics creativity': 9.598035579260339, 'communication': 4.327603416201837, 'communication creativity': 9.598035579260339, 'creativity': 6.6535966000938975, 'dating': 4.831597245676124, 'demo': 5.836835463566776, 'design': 6.042687517770925, 'design action': 9.192570471152173, 'design creativity': 8.211741218140448, 'design pretend': 9.192570471152173, 'drink': 5.439152495900666, 'editors': 5.103796953979528, 'editors creativity': 9.192570471152173, 'editors music': 8.904888398700393, 'education': 3.723104848408308, 'education action': 8.34527261076497, 'education brain': 8.49942329059223, 'education creativity': 8.211741218140448, 'education education': 6.359357127095958, 'education music': 8.49942329059223, 'education pretend': 7.113128929472338, 'educational': 5.563794941107943, 'educational action': 8.681744847386184, 'educational brain': 8.34527261076497, 'educational creativity': 8.49942329059223, 'educational education': 6.553513141536915, 'educational pretend': 7.295450486266293, 'entertainment': 3.786894586283638, 'entertainment action': 8.904888398700393, 'entertainment brain': 8.093958182484064, 'entertainment creativity': 8.904888398700393, 'entertainment education': 9.598035579260339, 'entertainment music': 6.95897824964508, 'entertainment pretend': 9.192570471152173, 'events': 6.116795489924646, 'finance': 4.385820911765713, 'fitness': 4.450541102446885, 'fitness action': 9.598035579260339, 'fitness education': 9.598035579260339, 'food': 5.439152495900666, 'food drink': 5.439152495900666, 'games': 6.028502882778968, 'health': 4.450541102446885, 'health fitness': 4.450541102446885, 'home': 5.8025463900881435, 'house': 5.8025463900881435, 'house home': 5.8025463900881435, 'libraries': 5.836835463566776, 'libraries demo': 5.836835463566776, 'lifestyle': 4.340540207232557, 'lifestyle education': 9.598035579260339, 'lifestyle pretend': 9.598035579260339, 'local': 4.734354698120746, 'local action': 9.598035579260339, 'magazines': 4.642208521659077, 'maps': 5.363929074663079, 'maps navigation': 5.363929074663079, 'medical': 4.151298207594028, 'music': 6.042687517770925, 'music audio': 9.598035579260339, 'music music': 8.904888398700393, 'music video': 6.4199817489123925, 'navigation': 5.363929074663079, 'news': 4.642208521659077, 'news magazines': 4.642208521659077, 'parenting': 6.180308895646972, 'parenting brain': 9.598035579260339, 'parenting education': 8.211741218140448, 'parenting music': 8.34527261076497, 'personalization': 4.317373147951022, 'photography': 4.47407159985708, 'play': 5.780323253303433, 'players': 5.103796953979528, 'players editors': 5.103796953979528, 'playing': 5.470901194215247, 'playing action': 8.211741218140448, 'playing brain': 9.598035579260339, 'playing education': 9.598035579260339, 'playing pretend': 8.49942329059223, 'pretend': 5.780323253303433, 'pretend play': 5.780323253303433, 'productivity': 4.239093590895867, 'puzzle': 5.167218780417024, 'puzzle action': 8.49942329059223, 'puzzle brain': 7.295450486266293, 'puzzle creativity': 9.192570471152173, 'puzzle education': 9.598035579260339, 'racing': 5.503691017038237, 'racing action': 7.246660322096861, 'racing pretend': 9.598035579260339, 'reference': 4.831597245676124, 'reference creativity': 9.598035579260339, 'reference education': 9.192570471152173, 'role': 5.470901194215247, 'role playing': 5.470901194215247, 'shopping': 4.7266623524975895, 'simulation': 4.902111030003782, 'simulation action': 7.806276110032283, 'simulation education': 8.904888398700393, 'simulation pretend': 8.681744847386184, 'social': 4.600823305496223, 'sports': 4.292246197873601, 'sports action': 8.681744847386184, 'strategy': 5.572683888525189, 'strategy action': 9.192570471152173, 'strategy creativity': 9.598035579260339, 'strategy education': 9.598035579260339, 'tools': 3.553030265224326, 'tools education': 9.598035579260339, 'travel': 4.734354698120746, 'travel local': 4.734354698120746, 'trivia': 6.602303305706347, 'trivia education': 9.598035579260339, 'vehicles': 5.836835463566776, 'video': 4.884010988360165, 'video players': 5.103796953979528, 'weather': 5.872342152023686, 'word': 6.889985378158128}\n"
     ]
    },
    {
     "data": {
      "text/plain": [
       "(10841, 156)"
      ]
     },
     "execution_count": 5,
     "metadata": {},
     "output_type": "execute_result"
    }
   ],
   "source": [
    "txt_fitted = tf.fit(data['Genres'])\n",
    "idf = tf.idf_\n",
    "print(dict(zip(txt_fitted.get_feature_names(), idf)))\n",
    "tfidf_matrix.shape"
   ]
  },
  {
   "cell_type": "markdown",
   "metadata": {},
   "source": [
    "### Similarity Scores\n",
    "\n",
    "With the TF-IDF matrix, similarity scores for the recommendation were calculated. For this project the cosine similarity scoring was used. "
   ]
  },
  {
   "cell_type": "code",
   "execution_count": null,
   "metadata": {},
   "outputs": [],
   "source": [
    "cosine_sim = linear_kernel(tfidf_matrix, tfidf_matrix)\n",
    "cosine_sim[0]"
   ]
  },
  {
   "cell_type": "markdown",
   "metadata": {},
   "source": [
    "By doing so, we now have a pairwise cosine similarity matrix for all the apps in the dataset.\n",
    "\n",
    "The function `get_recommendation` uses the calculated similarity scores to get top 50 recommendations for the given app name by getting a sorted list of the similarity scores and mapping them to the apps by indices. \n",
    "\n",
    "These 50 recommended apps are then ranked based on their ratings and reviews by the `ranked_recommendation` function that implements a Bayesian  estimate to finally return the top 100 recommended apps for the given app."
   ]
  },
  {
   "cell_type": "code",
   "execution_count": null,
   "metadata": {},
   "outputs": [],
   "source": [
    "data = data.reset_index()\n",
    "indices = pd.Series(data.index, index=data['App'])\n",
    "\n",
    "\n",
    "def get_recommendations(app_name):\n",
    "    idx = indices[app_name]\n",
    "    sim_scores = list(enumerate(cosine_sim[idx]))\n",
    "    sim_scores = sorted(sim_scores, key=lambda x: x[1], reverse=True)\n",
    "    sim_scores = sim_scores[1:50]\n",
    "    app_indices = [i[0] for i in sim_scores]\n",
    "    new = data.iloc[app_indices]\n",
    "    return ranked_recommendations(new)\n",
    "\n",
    "\n",
    "def ranked_recommendations(recommended_data):\n",
    "    C = recommended_data['Rating'].mean()\n",
    "    m = recommended_data['Reviews'].quantile(0.10)\n",
    "    final_apps = recommended_data.copy().loc[data['Reviews'] >= m]\n",
    "    final_apps.shape\n",
    "    \n",
    "    def weighted_rating(x, m=m, C=C):\n",
    "        v = x['Reviews']\n",
    "        R = x['Rating']\n",
    "        return (v /(v + m) * R) + (m / (m + v) * C)\n",
    "\n",
    "    final_apps['score'] = final_apps.apply(weighted_rating, axis=1)\n",
    "    final_apps = final_apps.sort_values('score', ascending=False)\n",
    "\n",
    "    return final_apps\n",
    "\n"
   ]
  },
  {
   "cell_type": "markdown",
   "metadata": {},
   "source": [
    "## Results\n"
   ]
  },
  {
   "cell_type": "code",
   "execution_count": null,
   "metadata": {},
   "outputs": [],
   "source": [
    "get_recommendations('German Vocabulary Trainer').head(100)"
   ]
  },
  {
   "cell_type": "code",
   "execution_count": null,
   "metadata": {},
   "outputs": [],
   "source": [
    "def pre_process_for_analysis():\n",
    "    original_data = pd.read_csv('google-play-store-apps/googleplaystore.csv')\n",
    "    #wait like 30s for this to finish\n",
    "    to_drop = ['Size',\n",
    "              'Last Updated',\n",
    "              'Current Ver',\n",
    "              'Android Ver']\n",
    "    original_data.drop(to_drop, inplace=True, axis=1)\n",
    "    original_data.head()\n",
    "\n",
    "    # Fixing Price\n",
    "    original_data = original_data.where(original_data['Price'] != \"Everyone\")\n",
    "    original_data[\"Price\"] = original_data[\"Price\"].str.replace(\"$\", '')\n",
    "    original_data[\"Price\"] = pd.to_numeric(original_data[\"Price\"])\n",
    "\n",
    "    # Fixing Installs\n",
    "    original_data[\"Installs\"] = original_data[\"Installs\"].str.replace(\",\", '')\n",
    "    original_data[\"Installs\"] = original_data[\"Installs\"].str.replace(\"+\", '')\n",
    "    original_data[\"Installs\"] = pd.to_numeric(original_data[\"Installs\"])\n",
    "\n",
    "    original_data[\"Reviews\"] = pd.to_numeric(original_data[\"Reviews\"])\n",
    "    original_data['Genres'] = original_data['Genres'].fillna('')\n",
    "\n",
    "    original_data = original_data.dropna()\n",
    "\n",
    "    return original_data\n",
    "\n",
    "def count_unique(col):\n",
    "    unique, counts = np.unique(col, return_counts=True)\n",
    "    return np.array(list(zip(unique, counts)), dtype=object)\n",
    "\n",
    "X = pre_process_for_analysis().values\n",
    "\n",
    "def plot_bar(col, title, color=None):\n",
    "    category = count_unique(col)\n",
    "    fig, ax = plt.subplots(figsize=(18,8))\n",
    "    y_pos = np.arange(len(category[:,0]))\n",
    "    plt.bar(y_pos, category[:,1], color=color)\n",
    "    plt.xticks(y_pos, category[:, 0])\n",
    "    plt.xticks(rotation=75)\n",
    "    fig.suptitle(title, fontsize=20)\n",
    "    \n",
    "def plot_pie(col, title, color=None):\n",
    "    category = count_unique(col)\n",
    "    fig, ax = plt.subplots(figsize=(18,8))\n",
    "    plt.pie(category[:,1], autopct='%.2f%%', labels=category[:,0])\n",
    "    fig.suptitle(title, fontsize=20)\n",
    "    \n",
    "plot_bar(X[:, 1], 'Distribution of Categories')"
   ]
  },
  {
   "cell_type": "code",
   "execution_count": null,
   "metadata": {},
   "outputs": [],
   "source": [
    "plot_bar(X[:, 2], 'Distribution of Ratings', 'C1')"
   ]
  },
  {
   "cell_type": "code",
   "execution_count": null,
   "metadata": {},
   "outputs": [],
   "source": [
    "plot_bar(X[:, 4], 'Distribution of Installs', 'C7')"
   ]
  },
  {
   "cell_type": "code",
   "execution_count": null,
   "metadata": {},
   "outputs": [],
   "source": [
    "plot_pie(X[:, 5], 'Type', 'C2')"
   ]
  },
  {
   "cell_type": "code",
   "execution_count": null,
   "metadata": {},
   "outputs": [],
   "source": [
    "plot_bar(X[:, 6], 'Price', 'C3')"
   ]
  },
  {
   "cell_type": "code",
   "execution_count": null,
   "metadata": {},
   "outputs": [],
   "source": [
    "plot_bar(X[X[:, 6]>0][:, 6], 'Price Without Free', 'C3')"
   ]
  },
  {
   "cell_type": "code",
   "execution_count": null,
   "metadata": {},
   "outputs": [],
   "source": [
    "plot_bar(X[:, 7], 'Content Rating', 'C4')"
   ]
  },
  {
   "cell_type": "code",
   "execution_count": null,
   "metadata": {},
   "outputs": [],
   "source": []
  },
  {
   "cell_type": "code",
   "execution_count": null,
   "metadata": {},
   "outputs": [],
   "source": []
  },
  {
   "cell_type": "code",
   "execution_count": null,
   "metadata": {},
   "outputs": [],
   "source": []
  },
  {
   "cell_type": "code",
   "execution_count": null,
   "metadata": {},
   "outputs": [],
   "source": []
  },
  {
   "cell_type": "code",
   "execution_count": null,
   "metadata": {},
   "outputs": [],
   "source": []
  },
  {
   "cell_type": "code",
   "execution_count": null,
   "metadata": {},
   "outputs": [],
   "source": []
  },
  {
   "cell_type": "code",
   "execution_count": null,
   "metadata": {},
   "outputs": [],
   "source": []
  },
  {
   "cell_type": "code",
   "execution_count": null,
   "metadata": {},
   "outputs": [],
   "source": []
  },
  {
   "cell_type": "code",
   "execution_count": null,
   "metadata": {},
   "outputs": [],
   "source": []
  },
  {
   "cell_type": "code",
   "execution_count": null,
   "metadata": {},
   "outputs": [],
   "source": []
  }
 ],
 "metadata": {
  "kernelspec": {
   "display_name": "Python 3",
   "language": "python",
   "name": "python3"
  },
  "language_info": {
   "codemirror_mode": {
    "name": "ipython",
    "version": 3
   },
   "file_extension": ".py",
   "mimetype": "text/x-python",
   "name": "python",
   "nbconvert_exporter": "python",
   "pygments_lexer": "ipython3",
   "version": "3.7.0"
  }
 },
 "nbformat": 4,
 "nbformat_minor": 2
}
